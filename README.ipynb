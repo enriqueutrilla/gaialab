{
 "cells": [
  {
   "cell_type": "markdown",
   "metadata": {},
   "source": [
    "<div>\n",
    "<img src=\"images/Logo_Gaia_may_23_2022.png" width=\"300\" align=\"right\"/>    \n",
    "</div>\n",
    "\n",
    "\n",
    "# Gaia DR3 Tutorials \n",
    "\n",
    "<br />\n",
    "<br />\n",
    "<br />\n",
    "<br />\n",
    "<br />\n",
    "\n",
    "\n",
    "**Release number:** \n",
    "v1.1 (2022-08-06)\n",
    "\n",
    "\n",
    "**Applicable Gaia Data Releases:**\n",
    "Gaia EDR3, Gaia DR3\n",
    "\n",
    "**Author:**\n",
    "Héctor Cánovas Cabrera; hector.canovas@esa.int\n",
    "\n",
    "**Summary:** \n",
    "\n",
    "This code computes the list of Gaia (E)DR3 files associated to a circular region in the sky defined by the user. The granularity of this region is set by the [HEALPix](https://healpix.sourceforge.io) level selected.\n",
    "\n",
    "Input parameters:\n",
    "* target catalogue (e.g., gaia_source, auxiliary/agn_cross_id, or auxiliary/frame_rotator_source),\n",
    "* the cone-search parameters (centre and radius), and\n",
    "* the desired healpix level.\n",
    "\n",
    "Once the variables above are set the notebook creates a reference file that contains the min/max [HEALPix](https://healpix.sourceforge.io) index (levels: 6,7,8, and 9) encompassed by each gaia_source file available in the (E)DR3 [bulk download directory.](http://cdn.gea.esac.esa.int/Gaia/). The convertion between the different [HEALPix](https://healpix.sourceforge.io) levels is done by means of bit-shifting operations.\n",
    "\n",
    "\n",
    "**Useful URLs:**\n",
    "\n",
    "* [Questions or suggestions](https://www.cosmos.esa.int/web/gaia/questions)\n",
    "* [Tutorials, documentation, and more](https://www.cosmos.esa.int/web/gaia-users/archive)\n",
    "* [Known issues in the Gaia data](https://www.cosmos.esa.int/web/gaia-users/known-issues)\n",
    "* [Gaia data credits and acknowledgements](https://www.cosmos.esa.int/web/gaia-users/credits)"
   ]
  }
 ],
 "metadata": {
  "kernelspec": {
   "display_name": "Python 3 (ipykernel)",
   "language": "python",
   "name": "python3"
  },
  "language_info": {
   "codemirror_mode": {
    "name": "ipython",
    "version": 3
   },
   "file_extension": ".py",
   "mimetype": "text/x-python",
   "name": "python",
   "nbconvert_exporter": "python",
   "pygments_lexer": "ipython3",
   "version": "3.10.4"
  },
  "toc": {
   "base_numbering": 1,
   "nav_menu": {},
   "number_sections": true,
   "sideBar": true,
   "skip_h1_title": true,
   "title_cell": "Table of Contents",
   "title_sidebar": "Contents",
   "toc_cell": false,
   "toc_position": {},
   "toc_section_display": true,
   "toc_window_display": false
  }
 },
 "nbformat": 4,
 "nbformat_minor": 2
}
