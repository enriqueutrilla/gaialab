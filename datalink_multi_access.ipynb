{
 "cells": [
  {
   "cell_type": "markdown",
   "id": "serial-significance",
   "metadata": {},
   "source": [
    "<div>\n",
    "<img src=\"images/Logo_Gaia_may_23_2022.png" width=\"300\" align=\"right\"/>\n",
    "</div>\n",
    "\n",
    "\n",
    "# Tutorial:  Download DataLink products for >5000 sources\n",
    "\n",
    "<br />\n",
    "<br />\n",
    "<br />\n",
    "<br />\n",
    "<br />\n",
    "\n",
    "\n",
    "**Release number:** \n",
    "v1.0 (2022-07-06)\n",
    "\n",
    "\n",
    "**Applicable Gaia Data Releases:**\n",
    "Gaia EDR3, Gaia DR3\n",
    "\n",
    "**Author:**\n",
    "Héctor Cánovas Cabrera; hector.canovas@esa.int\n",
    "\n",
    "**Summary:** \n",
    "\n",
    "This Jupyter Notebook allows to overcome the Gaia Archive DataLink products download threshold by first splitting an input source list into multiple chunks, each of them having $\\leq$ 5000 sources. Then, a sequential download begins and the multiple outputs are finally merged. As explained in the [DataLink: products serialisation](https://www.cosmos.esa.int/web/gaia-users/archive/datalink-products#datalink_serialisation) tutorial, it is possible to retrieve DataLink products in various data structures and formats. We suggest to retrieve the DataLink products in COMBINED data structure (as shown in all the examples below) because our tests indicate that this is the most efficient data structure to download large amounts of products. For simplicity, all the products in the following examples are downloaded in [VOTable](https://www.ivoa.net/documents/VOTable/). This allows to easily export them to several other formats using the tools available within the [Astropy.table](https://docs.astropy.org/en/stable/table/index.html) module. This complementary [tutorial](https://www.cosmos.esa.int/web/gaia-users/archive/datalink-products#datalink_jntb_get_all_prods) shows how to download  and inspect all the different DataLink products via [Astroquery.Gaia](https://astroquery.readthedocs.io/en/latest/gaia/gaia.html) for an small sample of sources. Finally, while executing this notebook it is posisble to receive a few warnings about the units included in the product metadata. Those are known issues and we are working on them.\n",
    "\n",
    "\n",
    "\n",
    "**Useful URLs:**\n",
    "\n",
    "* [Questions or suggestions](https://www.cosmos.esa.int/web/gaia/questions)\n",
    "* [Tutorials, documentation, and more](https://www.cosmos.esa.int/web/gaia-users/archive)\n",
    "* [Known issues in the Gaia data](https://www.cosmos.esa.int/web/gaia-users/known-issues)\n",
    "* [Gaia data credits and acknowledgements](https://www.cosmos.esa.int/web/gaia-users/credits)"
   ]
  },
  {
   "cell_type": "code",
   "execution_count": 1,
   "id": "fresh-montana",
   "metadata": {},
   "outputs": [],
   "source": [
    "from astropy.table import Table, vstack\n",
    "from astroquery.gaia import Gaia\n",
    "import numpy as np"
   ]
  },
  {
   "cell_type": "code",
   "execution_count": 2,
   "id": "wanted-federal",
   "metadata": {},
   "outputs": [],
   "source": [
    "def chunks(lst, n):\n",
    "    \"\"\n",
    "    \"Split an input list into multiple chunks of size =< n\"\n",
    "    \"\"\n",
    "    for i in range(0, len(lst), n):\n",
    "        yield lst[i:i + n]"
   ]
  },
  {
   "cell_type": "markdown",
   "id": "damaged-adobe",
   "metadata": {},
   "source": [
    "## Connect to the Gaia Archive\n",
    "\n",
    "The DataLink products are available to both registered & anonymous users. However, we recommend to access as a registered user due to their extra benefits when executing long queries (as explained in this [FAQ](https://www.cosmos.esa.int/web/gaia-users/archive/faq#account-limits-2020))."
   ]
  },
  {
   "cell_type": "code",
   "execution_count": 3,
   "id": "understanding-zambia",
   "metadata": {},
   "outputs": [
    {
     "name": "stdout",
     "output_type": "stream",
     "text": [
      "INFO: Login to gaia TAP server [astroquery.gaia.core]\n",
      "User: hcanovas\n",
      "Password: ········\n",
      "OK\n",
      "INFO: Login to gaia data server [astroquery.gaia.core]\n",
      "OK\n"
     ]
    }
   ],
   "source": [
    "Gaia.login()"
   ]
  },
  {
   "cell_type": "markdown",
   "id": "mature-prairie",
   "metadata": {},
   "source": [
    "##  Execute ADQL Query\n",
    "\n",
    "The query below retrieves data for 12000 sources that have associated all the DataLink products offered in Gaia DR3."
   ]
  },
  {
   "cell_type": "code",
   "execution_count": 4,
   "id": "decimal-conducting",
   "metadata": {},
   "outputs": [
    {
     "name": "stdout",
     "output_type": "stream",
     "text": [
      "INFO: Query finished. [astroquery.utils.tap.core]\n"
     ]
    },
    {
     "data": {
      "text/html": [
       "<div><i>Table length=5</i>\n",
       "<table id=\"table140616713790384\" class=\"table-striped table-bordered table-condensed\">\n",
       "<thead><tr><th>source_id</th><th>ra</th><th>dec</th><th>parallax</th></tr></thead>\n",
       "<thead><tr><th></th><th>deg</th><th>deg</th><th>mas</th></tr></thead>\n",
       "<thead><tr><th>int64</th><th>float64</th><th>float64</th><th>float64</th></tr></thead>\n",
       "<tr><td>2263166706630078848</td><td>295.13035167754015</td><td>70.28624696426813</td><td>17.357227526090668</td></tr>\n",
       "<tr><td>2263178457660566784</td><td>294.86955515586925</td><td>70.52640371163079</td><td>5.99456673538563</td></tr>\n",
       "<tr><td>2268372099615724288</td><td>285.63663592006975</td><td>75.41851051257491</td><td>23.857068308325488</td></tr>\n",
       "<tr><td>5912901375001820288</td><td>263.99225124991324</td><td>-58.82661905857226</td><td>6.476061657906406</td></tr>\n",
       "<tr><td>2266609140096698112</td><td>275.7457014457717</td><td>72.17444369607303</td><td>7.253739784978569</td></tr>\n",
       "</table></div>"
      ],
      "text/plain": [
       "<Table length=5>\n",
       "     source_id              ra                dec              parallax     \n",
       "                           deg                deg                mas        \n",
       "       int64             float64            float64            float64      \n",
       "------------------- ------------------ ------------------ ------------------\n",
       "2263166706630078848 295.13035167754015  70.28624696426813 17.357227526090668\n",
       "2263178457660566784 294.86955515586925  70.52640371163079   5.99456673538563\n",
       "2268372099615724288 285.63663592006975  75.41851051257491 23.857068308325488\n",
       "5912901375001820288 263.99225124991324 -58.82661905857226  6.476061657906406\n",
       "2266609140096698112  275.7457014457717  72.17444369607303  7.253739784978569"
      ]
     },
     "execution_count": 4,
     "metadata": {},
     "output_type": "execute_result"
    }
   ],
   "source": [
    "query = \"SELECT TOP 5100 source_id, ra, dec, parallax from gaiadr3.gaia_source \\\n",
    "WHERE has_epoch_photometry = 'True' AND \\\n",
    "has_mcmc_gspphot = 'True' AND \\\n",
    "has_mcmc_msc = 'True' AND \\\n",
    "has_xp_sampled = 'True' AND \\\n",
    "has_rvs = 'True'\"\n",
    "\n",
    "job     = Gaia.launch_job_async(query)\n",
    "results = job.get_results()\n",
    "results[0:5]"
   ]
  },
  {
   "cell_type": "markdown",
   "id": "convinced-stuart",
   "metadata": {},
   "source": [
    "## Download Datalink Products\n",
    "\n",
    "**Warning**: The ```load_data``` method allows to retrieve all types of DataLink products (epoch photometry, MCMC's, and spectra) in one single call (see below). However, selecting this option when attempting to retrieve DataLink products for large (>1000) amount of sources can severely delay the dataset preparation on the server side, and even result in a download error. Therefore, we strongly recommend to select one a product at a time in this case."
   ]
  },
  {
   "cell_type": "markdown",
   "id": "vital-league",
   "metadata": {},
   "source": [
    "### Split the input list into several chunks containing =<5000 elements each\n"
   ]
  },
  {
   "cell_type": "code",
   "execution_count": 5,
   "id": "confidential-noise",
   "metadata": {},
   "outputs": [
    {
     "name": "stdout",
     "output_type": "stream",
     "text": [
      "* Input list contains 5100 source_IDs\n",
      "* This list is split into 2 chunks of <= 5000 elements each\n"
     ]
    }
   ],
   "source": [
    "dl_threshold = 5000               # DataLink server threshold. It is not possible to download products for more than 5000 sources in one single call.\n",
    "ids          = results['source_id']\n",
    "ids_chunks   = list(chunks(ids, dl_threshold))\n",
    "datalink_all = []\n",
    "\n",
    "\n",
    "print(f'* Input list contains {len(ids)} source_IDs')\n",
    "print(f'* This list is split into {len(ids_chunks)} chunks of <= {dl_threshold} elements each')"
   ]
  },
  {
   "cell_type": "code",
   "execution_count": 6,
   "id": "dietary-comedy",
   "metadata": {},
   "outputs": [
    {
     "name": "stdout",
     "output_type": "stream",
     "text": [
      "Downloading Chunk #1; N_files = 5000\n"
     ]
    },
    {
     "name": "stderr",
     "output_type": "stream",
     "text": [
      "WARNING: UnitsWarning: Unit 'em' not supported by the VOUnit standard. Did you mean Elm or Em? [astropy.units.format.vounit]\n",
      "WARNING: UnitsWarning: Unit 'wl' not supported by the VOUnit standard.  [astropy.units.format.vounit]\n"
     ]
    },
    {
     "name": "stdout",
     "output_type": "stream",
     "text": [
      "Downloading Chunk #2; N_files = 100\n"
     ]
    }
   ],
   "source": [
    "retrieval_type = 'RVS'        # Options are: 'EPOCH_PHOTOMETRY', 'MCMC_GSPPHOT', 'MCMC_MSC', 'XP_SAMPLED', 'XP_CONTINUOUS', 'RVS' \n",
    "data_structure = 'COMBINED'   # Options are: 'INDIVIDUAL', 'COMBINED', 'RAW' - but as explained above, we strongly recommend to use COMBINED for massive downloads.\n",
    "data_release   = 'Gaia DR3'   # Options are: 'Gaia DR3' (default), 'Gaia DR2'\n",
    "dl_key         = f'{retrieval_type}_{data_structure}.xml'\n",
    "\n",
    "\n",
    "ii = 0\n",
    "for chunk in ids_chunks:\n",
    "    ii = ii + 1\n",
    "    print(f'Downloading Chunk #{ii}; N_files = {len(chunk)}')\n",
    "    datalink  = Gaia.load_data(ids=chunk, data_release = data_release, retrieval_type=retrieval_type, format = 'votable', data_structure = data_structure)\n",
    "    datalink_all.append(datalink)"
   ]
  },
  {
   "cell_type": "markdown",
   "id": "fitted-weather",
   "metadata": {},
   "source": [
    "### Concatenate the DataLink outputs into one single table\n",
    "\n",
    "The sampled spectra (XP and RVS) are serialised following the [IVOA Spectrum Data Model](https://www.ivoa.net/documents/SpectrumDM/) and as a result a number of parameters, including the associated source_id, are stored in the table metadata. This is taken into account in the cells below. "
   ]
  },
  {
   "cell_type": "markdown",
   "id": "9ffaac7e",
   "metadata": {},
   "source": [
    "### Epoch Photometry, MCMC, or XP Continuous\n",
    "\n",
    "In this case, the merged product is one single table that includes the source_id in one of the table fields. The code below includes an example showing how to write the entire table using the [Astropy.table](https://docs.astropy.org/en/stable/table/index.html) module. \n",
    "\n",
    "**Warning**: the written table can have a size >1 Gb.  "
   ]
  },
  {
   "cell_type": "code",
   "execution_count": 7,
   "id": "cee9a3dc",
   "metadata": {},
   "outputs": [],
   "source": [
    "if 'RVS' not in dl_key and 'XP_SAMPLED' not in dl_key:\n",
    "    temp       = [inp[dl_key][0].to_table() for inp in datalink_all]\n",
    "    merged     = vstack(temp)\n",
    "    file_name  = f\"{dl_key}_{data_release.replace(' ','_')}.vot\"\n",
    "\n",
    "    print(f'Writting table as: {file_name}')\n",
    "    merged.write(file_name, format = 'votable', overwrite = True)\n",
    "\n",
    "    display(merged)"
   ]
  },
  {
   "cell_type": "markdown",
   "id": "24028929",
   "metadata": {},
   "source": [
    "### XP sampled or RVS\n",
    "\n",
    "In this case, the merged product is one Python list whose elements are all the individual products. The code below includes an example showing how to write an individual table using the [Astropy.table](https://docs.astropy.org/en/stable/table/index.html) module"
   ]
  },
  {
   "cell_type": "code",
   "execution_count": 9,
   "id": "c6aadc63",
   "metadata": {},
   "outputs": [
    {
     "name": "stdout",
     "output_type": "stream",
     "text": [
      "Writting table as: RVS_Gaia_DR3_5912768368455408000.vot\n",
      "\n",
      "Showing RVS for source_id = 5912768368455408000\n"
     ]
    },
    {
     "data": {
      "text/html": [
       "<div><i>Table length=5</i>\n",
       "<table id=\"table140616759863680\" class=\"table-striped table-bordered table-condensed\">\n",
       "<thead><tr><th>wavelength</th><th>flux</th><th>flux_error</th></tr></thead>\n",
       "<thead><tr><th>nm</th><th></th><th></th></tr></thead>\n",
       "<thead><tr><th>float64</th><th>float32</th><th>float32</th></tr></thead>\n",
       "<tr><td>846.0</td><td>0.961344</td><td>0.03171042</td></tr>\n",
       "<tr><td>846.01</td><td>0.9489333</td><td>0.020776467</td></tr>\n",
       "<tr><td>846.02</td><td>0.9774552</td><td>0.017536303</td></tr>\n",
       "<tr><td>846.03</td><td>0.9911668</td><td>0.014816107</td></tr>\n",
       "<tr><td>846.04</td><td>0.9947043</td><td>0.013110418</td></tr>\n",
       "</table></div>"
      ],
      "text/plain": [
       "<Table length=5>\n",
       "wavelength    flux    flux_error\n",
       "    nm                          \n",
       " float64    float32    float32  \n",
       "---------- --------- -----------\n",
       "     846.0  0.961344  0.03171042\n",
       "    846.01 0.9489333 0.020776467\n",
       "    846.02 0.9774552 0.017536303\n",
       "    846.03 0.9911668 0.014816107\n",
       "    846.04 0.9947043 0.013110418"
      ]
     },
     "metadata": {},
     "output_type": "display_data"
    }
   ],
   "source": [
    "if 'RVS' in dl_key or 'XP_SAMPLED'  in dl_key:\n",
    "    product_list_tb  = [item                                    for sublist in datalink_all for item in sublist[dl_key]]\n",
    "    product_list_ids = [item.get_field_by_id(\"source_id\").value for sublist in datalink_all for item in sublist[dl_key]]\n",
    "    \n",
    "    \n",
    "    ii          = 12     # Try different values to display the content of the individual products.\n",
    "    source_id   = product_list_ids[ii]\n",
    "    product_tab = product_list_tb[ii].to_table()\n",
    "    file_name   = f\"{dl_key.replace('_COMBINED.xml', '')}_{data_release.replace(' ','_')}_{source_id}.vot\"\n",
    "    \n",
    "    print(f'Writting table as: {file_name}')\n",
    "    product_tab.write(file_name, format = 'votable', overwrite = True)\n",
    "    print()\n",
    "    print(f'Showing {retrieval_type} for source_id = {source_id}')\n",
    "    display(product_tab[:5])"
   ]
  }
 ],
 "metadata": {
  "kernelspec": {
   "display_name": "Python 3 (ipykernel)",
   "language": "python",
   "name": "python3"
  },
  "language_info": {
   "codemirror_mode": {
    "name": "ipython",
    "version": 3
   },
   "file_extension": ".py",
   "mimetype": "text/x-python",
   "name": "python",
   "nbconvert_exporter": "python",
   "pygments_lexer": "ipython3",
   "version": "3.10.4"
  },
  "toc": {
   "base_numbering": 1,
   "nav_menu": {},
   "number_sections": true,
   "sideBar": true,
   "skip_h1_title": true,
   "title_cell": "Table of Contents",
   "title_sidebar": "Contents",
   "toc_cell": false,
   "toc_position": {
    "height": "calc(100% - 180px)",
    "left": "10px",
    "top": "150px",
    "width": "407.20001220703125px"
   },
   "toc_section_display": true,
   "toc_window_display": false
  }
 },
 "nbformat": 4,
 "nbformat_minor": 5
}
